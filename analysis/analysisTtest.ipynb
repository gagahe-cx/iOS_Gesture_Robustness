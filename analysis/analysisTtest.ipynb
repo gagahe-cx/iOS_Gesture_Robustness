{
 "cells": [
  {
   "cell_type": "code",
   "execution_count": 1,
   "metadata": {},
   "outputs": [
    {
     "data": {
      "text/html": [
       "<div>\n",
       "<style scoped>\n",
       "    .dataframe tbody tr th:only-of-type {\n",
       "        vertical-align: middle;\n",
       "    }\n",
       "\n",
       "    .dataframe tbody tr th {\n",
       "        vertical-align: top;\n",
       "    }\n",
       "\n",
       "    .dataframe thead th {\n",
       "        text-align: right;\n",
       "    }\n",
       "</style>\n",
       "<table border=\"1\" class=\"dataframe\">\n",
       "  <thead>\n",
       "    <tr style=\"text-align: right;\">\n",
       "      <th></th>\n",
       "      <th>Unnamed: 0</th>\n",
       "      <th>Shaking</th>\n",
       "      <th>Flipping</th>\n",
       "    </tr>\n",
       "  </thead>\n",
       "  <tbody>\n",
       "    <tr>\n",
       "      <th>0</th>\n",
       "      <td>walking_hand</td>\n",
       "      <td>25</td>\n",
       "      <td>0</td>\n",
       "    </tr>\n",
       "    <tr>\n",
       "      <th>1</th>\n",
       "      <td>walking_bag</td>\n",
       "      <td>22</td>\n",
       "      <td>5</td>\n",
       "    </tr>\n",
       "    <tr>\n",
       "      <th>2</th>\n",
       "      <td>pocket</td>\n",
       "      <td>15</td>\n",
       "      <td>5</td>\n",
       "    </tr>\n",
       "    <tr>\n",
       "      <th>3</th>\n",
       "      <td>bag</td>\n",
       "      <td>12</td>\n",
       "      <td>0</td>\n",
       "    </tr>\n",
       "    <tr>\n",
       "      <th>4</th>\n",
       "      <td>passing_phone</td>\n",
       "      <td>6</td>\n",
       "      <td>4</td>\n",
       "    </tr>\n",
       "    <tr>\n",
       "      <th>5</th>\n",
       "      <td>hold_phone_flat</td>\n",
       "      <td>3</td>\n",
       "      <td>12</td>\n",
       "    </tr>\n",
       "    <tr>\n",
       "      <th>6</th>\n",
       "      <td>selfie</td>\n",
       "      <td>9</td>\n",
       "      <td>7</td>\n",
       "    </tr>\n",
       "    <tr>\n",
       "      <th>7</th>\n",
       "      <td>dropping_phone</td>\n",
       "      <td>11</td>\n",
       "      <td>3</td>\n",
       "    </tr>\n",
       "  </tbody>\n",
       "</table>\n",
       "</div>"
      ],
      "text/plain": [
       "        Unnamed: 0  Shaking  Flipping\n",
       "0     walking_hand       25         0\n",
       "1      walking_bag       22         5\n",
       "2           pocket       15         5\n",
       "3              bag       12         0\n",
       "4    passing_phone        6         4\n",
       "5  hold_phone_flat        3        12\n",
       "6           selfie        9         7\n",
       "7   dropping_phone       11         3"
      ]
     },
     "execution_count": 1,
     "metadata": {},
     "output_type": "execute_result"
    }
   ],
   "source": [
    "# Importing libraries and reading dataframe\n",
    "import pandas as pd\n",
    "import numpy as np\n",
    "\n",
    "df = pd.read_csv(\"../raw-data/data_rearrangement.csv\").dropna(how='all', axis='columns')\n",
    "df.head(9)"
   ]
  },
  {
   "cell_type": "code",
   "execution_count": 2,
   "metadata": {},
   "outputs": [
    {
     "data": {
      "text/html": [
       "<div>\n",
       "<style scoped>\n",
       "    .dataframe tbody tr th:only-of-type {\n",
       "        vertical-align: middle;\n",
       "    }\n",
       "\n",
       "    .dataframe tbody tr th {\n",
       "        vertical-align: top;\n",
       "    }\n",
       "\n",
       "    .dataframe thead th {\n",
       "        text-align: right;\n",
       "    }\n",
       "</style>\n",
       "<table border=\"1\" class=\"dataframe\">\n",
       "  <thead>\n",
       "    <tr style=\"text-align: right;\">\n",
       "      <th></th>\n",
       "      <th>Unnamed: 0</th>\n",
       "      <th>Shaking</th>\n",
       "      <th>Flipping</th>\n",
       "      <th>Difference</th>\n",
       "    </tr>\n",
       "  </thead>\n",
       "  <tbody>\n",
       "    <tr>\n",
       "      <th>0</th>\n",
       "      <td>walking_hand</td>\n",
       "      <td>25</td>\n",
       "      <td>0</td>\n",
       "      <td>25</td>\n",
       "    </tr>\n",
       "    <tr>\n",
       "      <th>1</th>\n",
       "      <td>walking_bag</td>\n",
       "      <td>22</td>\n",
       "      <td>5</td>\n",
       "      <td>17</td>\n",
       "    </tr>\n",
       "    <tr>\n",
       "      <th>2</th>\n",
       "      <td>pocket</td>\n",
       "      <td>15</td>\n",
       "      <td>5</td>\n",
       "      <td>10</td>\n",
       "    </tr>\n",
       "    <tr>\n",
       "      <th>3</th>\n",
       "      <td>bag</td>\n",
       "      <td>12</td>\n",
       "      <td>0</td>\n",
       "      <td>12</td>\n",
       "    </tr>\n",
       "    <tr>\n",
       "      <th>4</th>\n",
       "      <td>passing_phone</td>\n",
       "      <td>6</td>\n",
       "      <td>4</td>\n",
       "      <td>2</td>\n",
       "    </tr>\n",
       "    <tr>\n",
       "      <th>5</th>\n",
       "      <td>hold_phone_flat</td>\n",
       "      <td>3</td>\n",
       "      <td>12</td>\n",
       "      <td>-9</td>\n",
       "    </tr>\n",
       "    <tr>\n",
       "      <th>6</th>\n",
       "      <td>selfie</td>\n",
       "      <td>9</td>\n",
       "      <td>7</td>\n",
       "      <td>2</td>\n",
       "    </tr>\n",
       "    <tr>\n",
       "      <th>7</th>\n",
       "      <td>dropping_phone</td>\n",
       "      <td>11</td>\n",
       "      <td>3</td>\n",
       "      <td>8</td>\n",
       "    </tr>\n",
       "  </tbody>\n",
       "</table>\n",
       "</div>"
      ],
      "text/plain": [
       "        Unnamed: 0  Shaking  Flipping  Difference\n",
       "0     walking_hand       25         0          25\n",
       "1      walking_bag       22         5          17\n",
       "2           pocket       15         5          10\n",
       "3              bag       12         0          12\n",
       "4    passing_phone        6         4           2\n",
       "5  hold_phone_flat        3        12          -9\n",
       "6           selfie        9         7           2\n",
       "7   dropping_phone       11         3           8"
      ]
     },
     "execution_count": 2,
     "metadata": {},
     "output_type": "execute_result"
    }
   ],
   "source": [
    "# Creating a third column to compute the difference between the num of shaking detected and flipping\n",
    "df[\"Difference\"] = df['Shaking'] - df['Flipping']\n",
    "df.head(9)"
   ]
  },
  {
   "cell_type": "code",
   "execution_count": 3,
   "metadata": {},
   "outputs": [
    {
     "name": "stdout",
     "output_type": "stream",
     "text": [
      "The mean of differences is 8.375 and its standard deviation is 10.3501\n"
     ]
    }
   ],
   "source": [
    "# We'll essentially work with the difference column to do our t-test\n",
    "\n",
    "mean_difference = df['Difference'].mean()\n",
    "sample_std_difference = df['Difference'].std()\n",
    "\n",
    "print(f\"The mean of differences is {mean_difference} and its standard deviation is {sample_std_difference:.4f}\")"
   ]
  },
  {
   "cell_type": "code",
   "execution_count": 4,
   "metadata": {},
   "outputs": [
    {
     "name": "stdout",
     "output_type": "stream",
     "text": [
      "t_value = 2.2887\n",
      "critical_t_value is 1.895000\n"
     ]
    }
   ],
   "source": [
    "t_value = (mean_difference-0)/(sample_std_difference/np.sqrt(8))\n",
    "critical_t = 1.895\n",
    "print(f\"t_value = {t_value:.4f}\")\n",
    "print(f\"critical_t_value is {critical_t:4f}\")"
   ]
  },
  {
   "cell_type": "markdown",
   "metadata": {},
   "source": [
    "* Our H0 here would be that the difference of activation times of the 2 gestures is 0; that is, the number of activation is equal for both gestures and that there's not robustness difference between them.\n",
    "\n",
    "* Our alternative hyphothesis HA would be that there is actual difference between the number of activations.\n",
    "\n",
    "We are doing a one sided right tail test, which indicates that the (n shaking gesture) - (n facedown gesture) > 0. Which is the same as saying that the shaking gesture will be activated more times that the face down gesture and hence the face down gesture is more robust to accidental activation. \n",
    "\n",
    "The t-value is computed as: mean/(std/√n), where n is in our case 8. t_value = 2.2887.\n",
    "\n",
    "The critical t value is found by looking at the t-value table. With confidence interval 5 and degrees of freedom (8-1=)7 for a one tailed t-test, our critical_t_value is 1.8950.\n",
    "\n",
    "It can be observed that our t-value is greater than the critical t-value and hence we reject our null hypothesis. Moreover, it can be seen that the p-value (P(T>our t-value)) has a low value (<<0.1) and hence we can be quite sure that the null hypothesis should be rejected. Up to this point we can say the robustness of the 2 gestures is different and we need to determine which is more robust to accidental activation. Since we have procceded to do the right tail test, we **can** conclude that the flip down gesture is **more** robust to actidental activation and with this we finish our proof."
   ]
  }
 ],
 "metadata": {
  "kernelspec": {
   "display_name": "base",
   "language": "python",
   "name": "python3"
  },
  "language_info": {
   "codemirror_mode": {
    "name": "ipython",
    "version": 3
   },
   "file_extension": ".py",
   "mimetype": "text/x-python",
   "name": "python",
   "nbconvert_exporter": "python",
   "pygments_lexer": "ipython3",
   "version": "3.10.8"
  }
 },
 "nbformat": 4,
 "nbformat_minor": 2
}
