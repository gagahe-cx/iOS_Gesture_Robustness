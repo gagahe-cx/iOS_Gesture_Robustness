{
 "cells": [
  {
   "cell_type": "code",
   "execution_count": 5,
   "metadata": {},
   "outputs": [],
   "source": [
    "import pandas as pd\n",
    "import numpy as np\n",
    "from scipy.stats import ttest_ind, chi2_contingency, norm"
   ]
  },
  {
   "cell_type": "markdown",
   "metadata": {},
   "source": [
    "### **Data Processing**"
   ]
  },
  {
   "cell_type": "code",
   "execution_count": 3,
   "metadata": {},
   "outputs": [],
   "source": [
    "import pandas as pd\n",
    "\n",
    "file_path = \"../raw-data/raw-data.csv\"\n",
    "df = pd.read_csv(file_path)\n",
    "\n",
    "df = df.dropna()\n",
    "df = df.drop(columns=df.columns[0])\n",
    "data = df.to_numpy()"
   ]
  },
  {
   "cell_type": "code",
   "execution_count": 7,
   "metadata": {},
   "outputs": [],
   "source": [
    "shaking_adjusted = data[(data == 1) | (data == 3)]\n",
    "flipping_adjusted = data[(data == 2) | (data == 3)]"
   ]
  },
  {
   "cell_type": "markdown",
   "metadata": {},
   "source": [
    "### **t-test**"
   ]
  },
  {
   "cell_type": "code",
   "execution_count": 37,
   "metadata": {},
   "outputs": [
    {
     "data": {
      "text/plain": [
       "(-13.165483252721433, 3.76154292197411e-26)"
      ]
     },
     "execution_count": 37,
     "metadata": {},
     "output_type": "execute_result"
    }
   ],
   "source": [
    "t_stat_adjusted, p_value = ttest_ind(shaking_adjusted, flipping_adjusted, nan_policy='omit')\n",
    "t_stat_adjusted, p_value"
   ]
  },
  {
   "cell_type": "markdown",
   "metadata": {},
   "source": [
    "p-value is less than 0.05 -> reject H0 "
   ]
  },
  {
   "cell_type": "markdown",
   "metadata": {},
   "source": [
    "### **chi-square test**"
   ]
  },
  {
   "cell_type": "code",
   "execution_count": 35,
   "metadata": {},
   "outputs": [
    {
     "data": {
      "text/plain": [
       "array([[103,  37],\n",
       "       [105, 105]])"
      ]
     },
     "execution_count": 35,
     "metadata": {},
     "output_type": "execute_result"
    }
   ],
   "source": [
    "shaking_count_adjusted = np.count_nonzero(shaking_adjusted)\n",
    "flipping_count_adjusted = np.count_nonzero(flipping_adjusted)\n",
    "other_count_adjusted = np.count_nonzero(data == 0)\n",
    "contingency_table_adjusted = np.array([[shaking_count_adjusted, flipping_count_adjusted], [other_count_adjusted, other_count_adjusted]])\n",
    "\n",
    "contingency_table_adjusted"
   ]
  },
  {
   "cell_type": "code",
   "execution_count": 36,
   "metadata": {},
   "outputs": [
    {
     "data": {
      "text/plain": [
       "(18.391609674070057, 1.798481716866946e-05)"
      ]
     },
     "execution_count": 36,
     "metadata": {},
     "output_type": "execute_result"
    }
   ],
   "source": [
    "chi2_stat_adjusted, p_value_chi2_adjusted, _, _ = chi2_contingency(contingency_table_adjusted)\n",
    "chi2_stat_adjusted, p_value_chi2_adjusted"
   ]
  },
  {
   "cell_type": "markdown",
   "metadata": {},
   "source": [
    "p-value is less than 0.05 -> reject H0\n"
   ]
  },
  {
   "cell_type": "markdown",
   "metadata": {},
   "source": [
    "### **z-test for proportions**"
   ]
  },
  {
   "cell_type": "markdown",
   "metadata": {},
   "source": [
    "Null Hypothesis (H0): The proportion of accidental activations due to shaking is less than or equal to the proportion of accidental activations due to flipping.\n",
    "\n",
    "Alternative Hypothesis (H1): The proportion of accidental activations due to shaking is greater than the proportion of accidental activations due to flipping."
   ]
  },
  {
   "cell_type": "markdown",
   "metadata": {},
   "source": [
    "**Rationale of using z-test**\n",
    "\n",
    "- sample size is 240, which < 30\n",
    "- shaking doesn't afffect flipping\n",
    "- data should be normally distributed. However, for large sample sizes (over 30) this doesn’t always matter.\n",
    "- Your data should be randomly selected from a population, where each item has an equal chance of being selected.\n",
    "- Sample sizes should be equal (both 240)\n"
   ]
  },
  {
   "cell_type": "code",
   "execution_count": 15,
   "metadata": {},
   "outputs": [
    {
     "data": {
      "text/plain": [
       "1.705102725679808e-11"
      ]
     },
     "execution_count": 15,
     "metadata": {},
     "output_type": "execute_result"
    }
   ],
   "source": [
    "n_shaking = np.count_nonzero((data == 1) | (data == 3))\n",
    "n_flipping = np.count_nonzero((data == 2) | (data == 3))\n",
    "\n",
    "p_shaking = n_shaking / data.size\n",
    "p_flipping = n_flipping / data.size\n",
    "\n",
    "p_pooled = (n_shaking + n_flipping) / (2 * data.size)\n",
    "\n",
    "z_stat = (p_shaking - p_flipping) / np.sqrt(2 * p_pooled * (1 - p_pooled) / data.size)\n",
    "\n",
    "p_value = 1 - norm.cdf(np.abs(z_stat))\n",
    "p_value"
   ]
  },
  {
   "cell_type": "markdown",
   "metadata": {},
   "source": []
  }
 ],
 "metadata": {
  "kernelspec": {
   "display_name": "base",
   "language": "python",
   "name": "python3"
  },
  "language_info": {
   "codemirror_mode": {
    "name": "ipython",
    "version": 3
   },
   "file_extension": ".py",
   "mimetype": "text/x-python",
   "name": "python",
   "nbconvert_exporter": "python",
   "pygments_lexer": "ipython3",
   "version": "3.8.8"
  }
 },
 "nbformat": 4,
 "nbformat_minor": 2
}
