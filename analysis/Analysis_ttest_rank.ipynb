{
 "cells": [
  {
   "cell_type": "code",
   "execution_count": 200,
   "metadata": {},
   "outputs": [],
   "source": [
    "import pandas as pd\n",
    "import numpy as np\n",
    "import scipy.stats as stats"
   ]
  },
  {
   "cell_type": "markdown",
   "metadata": {},
   "source": [
    "### Data Processing"
   ]
  },
  {
   "cell_type": "code",
   "execution_count": 201,
   "metadata": {},
   "outputs": [
    {
     "data": {
      "text/html": [
       "<div>\n",
       "<style scoped>\n",
       "    .dataframe tbody tr th:only-of-type {\n",
       "        vertical-align: middle;\n",
       "    }\n",
       "\n",
       "    .dataframe tbody tr th {\n",
       "        vertical-align: top;\n",
       "    }\n",
       "\n",
       "    .dataframe thead th {\n",
       "        text-align: right;\n",
       "    }\n",
       "</style>\n",
       "<table border=\"1\" class=\"dataframe\">\n",
       "  <thead>\n",
       "    <tr style=\"text-align: right;\">\n",
       "      <th></th>\n",
       "      <th>Unnamed: 0</th>\n",
       "      <th>shaking</th>\n",
       "      <th>face-down</th>\n",
       "    </tr>\n",
       "  </thead>\n",
       "  <tbody>\n",
       "    <tr>\n",
       "      <th>0</th>\n",
       "      <td>walking_hand</td>\n",
       "      <td>25</td>\n",
       "      <td>0</td>\n",
       "    </tr>\n",
       "    <tr>\n",
       "      <th>1</th>\n",
       "      <td>walking_bag</td>\n",
       "      <td>22</td>\n",
       "      <td>5</td>\n",
       "    </tr>\n",
       "    <tr>\n",
       "      <th>2</th>\n",
       "      <td>pocket</td>\n",
       "      <td>15</td>\n",
       "      <td>5</td>\n",
       "    </tr>\n",
       "    <tr>\n",
       "      <th>3</th>\n",
       "      <td>bag</td>\n",
       "      <td>12</td>\n",
       "      <td>0</td>\n",
       "    </tr>\n",
       "    <tr>\n",
       "      <th>4</th>\n",
       "      <td>passing_flipped</td>\n",
       "      <td>7</td>\n",
       "      <td>5</td>\n",
       "    </tr>\n",
       "    <tr>\n",
       "      <th>5</th>\n",
       "      <td>hold_phone_flat</td>\n",
       "      <td>2</td>\n",
       "      <td>12</td>\n",
       "    </tr>\n",
       "    <tr>\n",
       "      <th>6</th>\n",
       "      <td>selfie</td>\n",
       "      <td>9</td>\n",
       "      <td>7</td>\n",
       "    </tr>\n",
       "    <tr>\n",
       "      <th>7</th>\n",
       "      <td>dropping_phone</td>\n",
       "      <td>11</td>\n",
       "      <td>3</td>\n",
       "    </tr>\n",
       "  </tbody>\n",
       "</table>\n",
       "</div>"
      ],
      "text/plain": [
       "        Unnamed: 0  shaking  face-down\n",
       "0     walking_hand       25          0\n",
       "1      walking_bag       22          5\n",
       "2           pocket       15          5\n",
       "3              bag       12          0\n",
       "4  passing_flipped        7          5\n",
       "5  hold_phone_flat        2         12\n",
       "6           selfie        9          7\n",
       "7   dropping_phone       11          3"
      ]
     },
     "execution_count": 201,
     "metadata": {},
     "output_type": "execute_result"
    }
   ],
   "source": [
    "import pandas as pd\n",
    "\n",
    "file_path = '\"../raw-data/raw-data-processing.csv\"'\n",
    "df = pd.read_csv(file_path)\n",
    "\n",
    "df = df.dropna()\n",
    "#df = df.drop(columns = df.columns[0]) \n",
    "#data = df.to_numpy()\n",
    "\n",
    "df"
   ]
  },
  {
   "cell_type": "code",
   "execution_count": 202,
   "metadata": {},
   "outputs": [
    {
     "data": {
      "text/html": [
       "<div>\n",
       "<style scoped>\n",
       "    .dataframe tbody tr th:only-of-type {\n",
       "        vertical-align: middle;\n",
       "    }\n",
       "\n",
       "    .dataframe tbody tr th {\n",
       "        vertical-align: top;\n",
       "    }\n",
       "\n",
       "    .dataframe thead th {\n",
       "        text-align: right;\n",
       "    }\n",
       "</style>\n",
       "<table border=\"1\" class=\"dataframe\">\n",
       "  <thead>\n",
       "    <tr style=\"text-align: right;\">\n",
       "      <th></th>\n",
       "      <th>Unnamed: 0</th>\n",
       "      <th>shaking</th>\n",
       "      <th>face-down</th>\n",
       "      <th>diff</th>\n",
       "    </tr>\n",
       "  </thead>\n",
       "  <tbody>\n",
       "    <tr>\n",
       "      <th>0</th>\n",
       "      <td>walking_hand</td>\n",
       "      <td>25</td>\n",
       "      <td>0</td>\n",
       "      <td>25</td>\n",
       "    </tr>\n",
       "    <tr>\n",
       "      <th>1</th>\n",
       "      <td>walking_bag</td>\n",
       "      <td>22</td>\n",
       "      <td>5</td>\n",
       "      <td>17</td>\n",
       "    </tr>\n",
       "    <tr>\n",
       "      <th>2</th>\n",
       "      <td>pocket</td>\n",
       "      <td>15</td>\n",
       "      <td>5</td>\n",
       "      <td>10</td>\n",
       "    </tr>\n",
       "    <tr>\n",
       "      <th>3</th>\n",
       "      <td>bag</td>\n",
       "      <td>12</td>\n",
       "      <td>0</td>\n",
       "      <td>12</td>\n",
       "    </tr>\n",
       "    <tr>\n",
       "      <th>4</th>\n",
       "      <td>passing_flipped</td>\n",
       "      <td>7</td>\n",
       "      <td>5</td>\n",
       "      <td>2</td>\n",
       "    </tr>\n",
       "    <tr>\n",
       "      <th>5</th>\n",
       "      <td>hold_phone_flat</td>\n",
       "      <td>2</td>\n",
       "      <td>12</td>\n",
       "      <td>-10</td>\n",
       "    </tr>\n",
       "    <tr>\n",
       "      <th>6</th>\n",
       "      <td>selfie</td>\n",
       "      <td>9</td>\n",
       "      <td>7</td>\n",
       "      <td>2</td>\n",
       "    </tr>\n",
       "    <tr>\n",
       "      <th>7</th>\n",
       "      <td>dropping_phone</td>\n",
       "      <td>11</td>\n",
       "      <td>3</td>\n",
       "      <td>8</td>\n",
       "    </tr>\n",
       "  </tbody>\n",
       "</table>\n",
       "</div>"
      ],
      "text/plain": [
       "        Unnamed: 0  shaking  face-down  diff\n",
       "0     walking_hand       25          0    25\n",
       "1      walking_bag       22          5    17\n",
       "2           pocket       15          5    10\n",
       "3              bag       12          0    12\n",
       "4  passing_flipped        7          5     2\n",
       "5  hold_phone_flat        2         12   -10\n",
       "6           selfie        9          7     2\n",
       "7   dropping_phone       11          3     8"
      ]
     },
     "execution_count": 202,
     "metadata": {},
     "output_type": "execute_result"
    }
   ],
   "source": [
    "N = 30\n",
    "df['diff'] = df[:]['shaking'] - df[:]['face-down']\n",
    "df"
   ]
  },
  {
   "cell_type": "markdown",
   "metadata": {},
   "source": [
    "### 1. t-test"
   ]
  },
  {
   "cell_type": "code",
   "execution_count": 203,
   "metadata": {},
   "outputs": [
    {
     "data": {
      "text/html": [
       "<div>\n",
       "<style scoped>\n",
       "    .dataframe tbody tr th:only-of-type {\n",
       "        vertical-align: middle;\n",
       "    }\n",
       "\n",
       "    .dataframe tbody tr th {\n",
       "        vertical-align: top;\n",
       "    }\n",
       "\n",
       "    .dataframe thead th {\n",
       "        text-align: right;\n",
       "    }\n",
       "</style>\n",
       "<table border=\"1\" class=\"dataframe\">\n",
       "  <thead>\n",
       "    <tr style=\"text-align: right;\">\n",
       "      <th></th>\n",
       "      <th>Unnamed: 0</th>\n",
       "      <th>shaking</th>\n",
       "      <th>face-down</th>\n",
       "      <th>diff</th>\n",
       "      <th>diff_prop</th>\n",
       "    </tr>\n",
       "  </thead>\n",
       "  <tbody>\n",
       "    <tr>\n",
       "      <th>0</th>\n",
       "      <td>walking_hand</td>\n",
       "      <td>25</td>\n",
       "      <td>0</td>\n",
       "      <td>25</td>\n",
       "      <td>0.833333</td>\n",
       "    </tr>\n",
       "    <tr>\n",
       "      <th>1</th>\n",
       "      <td>walking_bag</td>\n",
       "      <td>22</td>\n",
       "      <td>5</td>\n",
       "      <td>17</td>\n",
       "      <td>0.566667</td>\n",
       "    </tr>\n",
       "    <tr>\n",
       "      <th>2</th>\n",
       "      <td>pocket</td>\n",
       "      <td>15</td>\n",
       "      <td>5</td>\n",
       "      <td>10</td>\n",
       "      <td>0.333333</td>\n",
       "    </tr>\n",
       "    <tr>\n",
       "      <th>3</th>\n",
       "      <td>bag</td>\n",
       "      <td>12</td>\n",
       "      <td>0</td>\n",
       "      <td>12</td>\n",
       "      <td>0.400000</td>\n",
       "    </tr>\n",
       "    <tr>\n",
       "      <th>4</th>\n",
       "      <td>passing_flipped</td>\n",
       "      <td>7</td>\n",
       "      <td>5</td>\n",
       "      <td>2</td>\n",
       "      <td>0.066667</td>\n",
       "    </tr>\n",
       "    <tr>\n",
       "      <th>5</th>\n",
       "      <td>hold_phone_flat</td>\n",
       "      <td>2</td>\n",
       "      <td>12</td>\n",
       "      <td>-10</td>\n",
       "      <td>-0.333333</td>\n",
       "    </tr>\n",
       "    <tr>\n",
       "      <th>6</th>\n",
       "      <td>selfie</td>\n",
       "      <td>9</td>\n",
       "      <td>7</td>\n",
       "      <td>2</td>\n",
       "      <td>0.066667</td>\n",
       "    </tr>\n",
       "    <tr>\n",
       "      <th>7</th>\n",
       "      <td>dropping_phone</td>\n",
       "      <td>11</td>\n",
       "      <td>3</td>\n",
       "      <td>8</td>\n",
       "      <td>0.266667</td>\n",
       "    </tr>\n",
       "  </tbody>\n",
       "</table>\n",
       "</div>"
      ],
      "text/plain": [
       "        Unnamed: 0  shaking  face-down  diff  diff_prop\n",
       "0     walking_hand       25          0    25   0.833333\n",
       "1      walking_bag       22          5    17   0.566667\n",
       "2           pocket       15          5    10   0.333333\n",
       "3              bag       12          0    12   0.400000\n",
       "4  passing_flipped        7          5     2   0.066667\n",
       "5  hold_phone_flat        2         12   -10  -0.333333\n",
       "6           selfie        9          7     2   0.066667\n",
       "7   dropping_phone       11          3     8   0.266667"
      ]
     },
     "execution_count": 203,
     "metadata": {},
     "output_type": "execute_result"
    }
   ],
   "source": [
    "N = 30\n",
    "df['diff_prop'] = df[:]['shaking']/N - df[:]['face-down']/N\n",
    "df"
   ]
  },
  {
   "cell_type": "markdown",
   "metadata": {},
   "source": [
    "##### t-test for all the scenarios (assuming each scenario has similar daily occurence)"
   ]
  },
  {
   "cell_type": "code",
   "execution_count": 204,
   "metadata": {},
   "outputs": [
    {
     "name": "stdout",
     "output_type": "stream",
     "text": [
      "The mean of difference is 0.27499999999999997 and the sample standard deviation is 0.3531041484923955\n"
     ]
    }
   ],
   "source": [
    "mean_diff = df['diff_prop'].mean()\n",
    "s_std_diff = df['diff_prop'].std()\n",
    "\n",
    "print(f'The mean of difference is {mean_diff} and the sample standard deviation is {s_std_diff}')"
   ]
  },
  {
   "cell_type": "code",
   "execution_count": 205,
   "metadata": {},
   "outputs": [
    {
     "name": "stdout",
     "output_type": "stream",
     "text": [
      "T value = 2.202798983320224, Reject the Null Hypothesis (H0): There is no difference between the shaking and flipping gestures\n"
     ]
    }
   ],
   "source": [
    "t_statistics = (mean_diff - 0)/(s_std_diff/np.sqrt(8))\n",
    "critical_t = 1.895 #degrees of freedom = 8 - 1 = 7\n",
    "if t_statistics > critical_t:\n",
    "    print(f'T value = {t_statistics}, Reject the Null Hypothesis (H0): There is no difference between the shaking and flipping gestures')\n",
    "else:\n",
    "    print(f'T value= {t_statistics}, Failed to reject the Null Hypothesis(H0): There is no difference between the shaking and flipping gestures')\n"
   ]
  },
  {
   "cell_type": "markdown",
   "metadata": {},
   "source": [
    "##### **Reasoning for this test and conlusion:**\n",
    "As above, we tested whether the proportion of difference of two gestures being accidentally activated (the proportion of shaking gesture being activated - the proportion of flipping down gesture being activated) is statistically different from 0 across the 8 scenarios. The t statistics is larger than the critical value at 95\\% confidence interval (This is a one sided test if we are only interested in which gesture is more accident-prone). \n",
    "\n",
    "The t statics is calculated as $$\\frac{\\text{mean}}{\\frac{\\text{std}}{\\sqrt{n}}}$$ where the degrees of freedom is 8 - 1 = 7 since this is one-sample t-test (one sample refers to the sample difference between the number of times that shaking and flipping gestures being activated)\n",
    "\n",
    "The critical value is found on the t value table where the confidence interval is 95\\%\n",
    "\n",
    "It can be observed that our t-value is greater than the critical t-value and hence we reject our null hypothesis. Moreover, it can be seen that the p-value (P (T > our t-value)) has a low value (<< 0.1) and hence we can be quite sure that the null hypothesis should be rejected. Up to this point we can say the robustness of the 2 gestures is different and we need to determine which is more robust to accidental activation. Since we have procceded to do the right-tail test, we can conclude that the **flip down gesture is more robust to actidental activation** and with this we finish our proof.\n",
    "\n",
    "\n",
    "##### **Limitation:**\n",
    "This test assumes that the distribution of the proportion of difference is normally distributed.\n"
   ]
  },
  {
   "cell_type": "markdown",
   "metadata": {},
   "source": [
    "### 2. Rank Sum Test"
   ]
  },
  {
   "cell_type": "code",
   "execution_count": 206,
   "metadata": {},
   "outputs": [
    {
     "name": "stdout",
     "output_type": "stream",
     "text": [
      "P value = 0.023227980334535776, Reject the Null Hypothesis (H0): There is no difference between the shaking and flipping gestures\n"
     ]
    }
   ],
   "source": [
    "shaking = list(df['shaking'])\n",
    "face_down = list(df['face-down'])\n",
    "p_value = stats.mannwhitneyu(shaking, face_down).pvalue\n",
    "if p_value < 0.05:\n",
    "    print(f'P value = {p_value}, Reject the Null Hypothesis (H0): There is no difference between the shaking and flipping gestures')\n",
    "else:\n",
    "    print(f'P value= {p_value}, Failed to reject the Null Hypothesis(H0): There is no difference between the shaking and flipping gestures')\n"
   ]
  },
  {
   "cell_type": "markdown",
   "metadata": {},
   "source": [
    "##### **Reasoning for this test and conlusion:**\n",
    "The Rank Sum Test is a non-parametric test used to compare two independent groups or samples to determine if there is a significant difference between them. The Rank Sum Test does not require the distribution of the samples to be normal distribution. It tests whether one group tends to have higher values than the other by ranking the data of each group.\n",
    "\n",
    "Here, we directly import the rank sum test from scipy package. The p value obtained from the rank sum test is less than 0.5. This indicates that we can say that the number of times that shaking gesture being activated is statistically and significantlly different from that of the flipping down gesture with 95\\% confidence. \n",
    "\n",
    "Moreover, because this is a right-sided test here, we can say that shaking is more accidental prone to the face-down gesture.\n",
    "\\\n",
    "\n",
    "##### **Reasoning for this test and conlusion:**\n",
    "The Rank Sum Test compares the data of each group by ranking (it is the ranks of the times of activation that really matters here) which might lead to potential information loss."
   ]
  }
 ],
 "metadata": {
  "kernelspec": {
   "display_name": "cxworld",
   "language": "python",
   "name": "python3"
  },
  "language_info": {
   "codemirror_mode": {
    "name": "ipython",
    "version": 3
   },
   "file_extension": ".py",
   "mimetype": "text/x-python",
   "name": "python",
   "nbconvert_exporter": "python",
   "pygments_lexer": "ipython3",
   "version": "3.10.9"
  },
  "orig_nbformat": 4
 },
 "nbformat": 4,
 "nbformat_minor": 2
}
